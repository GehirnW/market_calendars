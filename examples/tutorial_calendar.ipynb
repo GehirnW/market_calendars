{
 "cells": [
  {
   "cell_type": "code",
   "execution_count": 3,
   "metadata": {},
   "outputs": [],
   "source": [
    "from datetime import time\n",
    "import pandas as pd\n",
    "import sys\n",
    "sys.path.append(\"../\") \n",
    "import market_calendars as mcal"
   ]
  },
  {
   "cell_type": "markdown",
   "metadata": {},
   "source": [
    "### 创建日历 Create a calendar object"
   ]
  },
  {
   "cell_type": "code",
   "execution_count": 4,
   "metadata": {},
   "outputs": [],
   "source": [
    "# create chinese shanghai stock exchange calendar\n",
    "cal_sse = mcal.get_calendar('China.SSE')\n",
    "\n",
    "# create nyse calendar\n",
    "cal_nyse = mcal.get_calendar('NYSE')"
   ]
  },
  {
   "cell_type": "code",
   "execution_count": 5,
   "metadata": {},
   "outputs": [
    {
     "data": {
      "text/plain": [
       "('China.SSE', <DstTzInfo 'Asia/Shanghai' LMT+8:06:00 STD>)"
      ]
     },
     "execution_count": 5,
     "metadata": {},
     "output_type": "execute_result"
    }
   ],
   "source": [
    "# return name and time zone\n",
    "cal_sse.name, cal_sse.tz"
   ]
  },
  {
   "cell_type": "markdown",
   "metadata": {},
   "source": [
    "#### 返回节假日列表 return holidays list"
   ]
  },
  {
   "cell_type": "code",
   "execution_count": 7,
   "metadata": {},
   "outputs": [
    {
     "data": {
      "text/plain": [
       "[datetime.datetime(2018, 9, 22, 0, 0),\n",
       " datetime.datetime(2018, 9, 23, 0, 0),\n",
       " datetime.datetime(2018, 9, 24, 0, 0),\n",
       " datetime.datetime(2018, 9, 29, 0, 0),\n",
       " datetime.datetime(2018, 9, 30, 0, 0),\n",
       " datetime.datetime(2018, 10, 1, 0, 0),\n",
       " datetime.datetime(2018, 10, 2, 0, 0),\n",
       " datetime.datetime(2018, 10, 3, 0, 0),\n",
       " datetime.datetime(2018, 10, 4, 0, 0),\n",
       " datetime.datetime(2018, 10, 5, 0, 0),\n",
       " datetime.datetime(2018, 10, 6, 0, 0),\n",
       " datetime.datetime(2018, 10, 7, 0, 0)]"
      ]
     },
     "execution_count": 7,
     "metadata": {},
     "output_type": "execute_result"
    }
   ],
   "source": [
    "# return holidays in datetime format\n",
    "cal_sse.holidays('2018-09-20', '2018-10-10')"
   ]
  },
  {
   "cell_type": "code",
   "execution_count": 8,
   "metadata": {},
   "outputs": [
    {
     "data": {
      "text/plain": [
       "['2018-09-22',\n",
       " '2018-09-23',\n",
       " '2018-09-24',\n",
       " '2018-09-29',\n",
       " '2018-09-30',\n",
       " '2018-10-01',\n",
       " '2018-10-02',\n",
       " '2018-10-03',\n",
       " '2018-10-04',\n",
       " '2018-10-05',\n",
       " '2018-10-06',\n",
       " '2018-10-07']"
      ]
     },
     "execution_count": 8,
     "metadata": {},
     "output_type": "execute_result"
    }
   ],
   "source": [
    "# return holidays in string format\n",
    "cal_sse.holidays('2018-09-20', '2018-10-10', return_string=True)"
   ]
  },
  {
   "cell_type": "code",
   "execution_count": 9,
   "metadata": {},
   "outputs": [
    {
     "data": {
      "text/plain": [
       "['2018-09-24',\n",
       " '2018-10-01',\n",
       " '2018-10-02',\n",
       " '2018-10-03',\n",
       " '2018-10-04',\n",
       " '2018-10-05']"
      ]
     },
     "execution_count": 9,
     "metadata": {},
     "output_type": "execute_result"
    }
   ],
   "source": [
    "# return holidays in string format, excluding weekends\n",
    "cal_sse.holidays('2018-09-20', '2018-10-10', return_string=True, include_weekends=False)"
   ]
  },
  {
   "cell_type": "code",
   "execution_count": 37,
   "metadata": {},
   "outputs": [
    {
     "data": {
      "text/plain": [
       "[datetime.datetime(2015, 5, 20, 0, 0),\n",
       " datetime.datetime(2015, 5, 21, 0, 0),\n",
       " datetime.datetime(2015, 5, 22, 0, 0),\n",
       " datetime.datetime(2015, 5, 25, 0, 0),\n",
       " datetime.datetime(2015, 5, 26, 0, 0),\n",
       " datetime.datetime(2015, 5, 27, 0, 0),\n",
       " datetime.datetime(2015, 5, 28, 0, 0),\n",
       " datetime.datetime(2015, 5, 29, 0, 0),\n",
       " datetime.datetime(2015, 6, 1, 0, 0)]"
      ]
     },
     "execution_count": 37,
     "metadata": {},
     "output_type": "execute_result"
    }
   ],
   "source": [
    "# return biz days in datetime format\n",
    "cal_sse.biz_days('2015-05-20', '2015-06-01')"
   ]
  },
  {
   "cell_type": "markdown",
   "metadata": {},
   "source": [
    "#### 返回交易日列表 return biz days list"
   ]
  },
  {
   "cell_type": "code",
   "execution_count": 39,
   "metadata": {},
   "outputs": [
    {
     "data": {
      "text/plain": [
       "['2015-05-20',\n",
       " '2015-05-21',\n",
       " '2015-05-22',\n",
       " '2015-05-25',\n",
       " '2015-05-26',\n",
       " '2015-05-27',\n",
       " '2015-05-28',\n",
       " '2015-05-29',\n",
       " '2015-06-01']"
      ]
     },
     "execution_count": 39,
     "metadata": {},
     "output_type": "execute_result"
    }
   ],
   "source": [
    "# return biz days in string format\n",
    "cal_sse.biz_days('2015-05-20', '2015-06-01', return_string=True)"
   ]
  },
  {
   "cell_type": "markdown",
   "metadata": {},
   "source": [
    "####  日期检验函数 date check functions"
   ]
  },
  {
   "cell_type": "code",
   "execution_count": 14,
   "metadata": {},
   "outputs": [
    {
     "data": {
      "text/plain": [
       "(True, True)"
      ]
     },
     "execution_count": 14,
     "metadata": {},
     "output_type": "execute_result"
    }
   ],
   "source": [
    "cal_sse.is_biz_day('2014-09-22'), cal_sse.is_biz_day('20140130')"
   ]
  },
  {
   "cell_type": "code",
   "execution_count": 15,
   "metadata": {},
   "outputs": [
    {
     "data": {
      "text/plain": [
       "(True, True)"
      ]
     },
     "execution_count": 15,
     "metadata": {},
     "output_type": "execute_result"
    }
   ],
   "source": [
    "cal_sse.is_holiday('2016-10-01'), cal_sse.is_holiday('2014/9/21')"
   ]
  },
  {
   "cell_type": "code",
   "execution_count": 16,
   "metadata": {},
   "outputs": [
    {
     "data": {
      "text/plain": [
       "(True, True)"
      ]
     },
     "execution_count": 16,
     "metadata": {},
     "output_type": "execute_result"
    }
   ],
   "source": [
    "cal_sse.is_weekend('2014-01-25'), cal_sse.is_weekend('2011/12/31')"
   ]
  },
  {
   "cell_type": "code",
   "execution_count": 17,
   "metadata": {},
   "outputs": [
    {
     "data": {
      "text/plain": [
       "(True, True)"
      ]
     },
     "execution_count": 17,
     "metadata": {},
     "output_type": "execute_result"
    }
   ],
   "source": [
    "cal_sse.is_end_of_month('2011-12-30'), cal_sse.is_end_of_month('20120131')"
   ]
  },
  {
   "cell_type": "markdown",
   "metadata": {},
   "source": [
    "#### 日期调整函数 date adjusted functions"
   ]
  },
  {
   "cell_type": "code",
   "execution_count": 19,
   "metadata": {},
   "outputs": [
    {
     "data": {
      "text/plain": [
       "datetime.datetime(2013, 1, 31, 0, 0)"
      ]
     },
     "execution_count": 19,
     "metadata": {},
     "output_type": "execute_result"
    }
   ],
   "source": [
    "cal_sse.adjust_date('20130131')"
   ]
  },
  {
   "cell_type": "code",
   "execution_count": 20,
   "metadata": {},
   "outputs": [
    {
     "data": {
      "text/plain": [
       "'2013-01-31'"
      ]
     },
     "execution_count": 20,
     "metadata": {},
     "output_type": "execute_result"
    }
   ],
   "source": [
    "cal_sse.adjust_date('20130131', return_string=True)"
   ]
  },
  {
   "cell_type": "code",
   "execution_count": 24,
   "metadata": {},
   "outputs": [
    {
     "data": {
      "text/plain": [
       "datetime.datetime(2017, 10, 9, 0, 0)"
      ]
     },
     "execution_count": 24,
     "metadata": {},
     "output_type": "execute_result"
    }
   ],
   "source": [
    "cal_sse.adjust_date('2017/10/01')"
   ]
  },
  {
   "cell_type": "code",
   "execution_count": 25,
   "metadata": {},
   "outputs": [
    {
     "data": {
      "text/plain": [
       "datetime.datetime(2017, 9, 29, 0, 0)"
      ]
     },
     "execution_count": 25,
     "metadata": {},
     "output_type": "execute_result"
    }
   ],
   "source": [
    "cal_sse.adjust_date('2017/10/01', convention=2)"
   ]
  },
  {
   "cell_type": "markdown",
   "metadata": {},
   "source": [
    "#### 日期加减函数 date advance function"
   ]
  },
  {
   "cell_type": "code",
   "execution_count": 26,
   "metadata": {},
   "outputs": [
    {
     "data": {
      "text/plain": [
       "datetime.datetime(2017, 5, 2, 0, 0)"
      ]
     },
     "execution_count": 26,
     "metadata": {},
     "output_type": "execute_result"
    }
   ],
   "source": [
    "cal_sse.advance_date('20170427', '2b')"
   ]
  },
  {
   "cell_type": "code",
   "execution_count": 28,
   "metadata": {},
   "outputs": [
    {
     "data": {
      "text/plain": [
       "'2017-05-02'"
      ]
     },
     "execution_count": 28,
     "metadata": {},
     "output_type": "execute_result"
    }
   ],
   "source": [
    "cal_sse.advance_date('20170427', '2b', return_string=True)"
   ]
  },
  {
   "cell_type": "code",
   "execution_count": 29,
   "metadata": {},
   "outputs": [
    {
     "data": {
      "text/plain": [
       "'2017-05-04'"
      ]
     },
     "execution_count": 29,
     "metadata": {},
     "output_type": "execute_result"
    }
   ],
   "source": [
    "cal_sse.advance_date('20170427', '1w', return_string=True)"
   ]
  },
  {
   "cell_type": "code",
   "execution_count": 30,
   "metadata": {},
   "outputs": [
    {
     "data": {
      "text/plain": [
       "'2017-05-31'"
      ]
     },
     "execution_count": 30,
     "metadata": {},
     "output_type": "execute_result"
    }
   ],
   "source": [
    "cal_sse.advance_date('20170427', '1m', return_string=True)"
   ]
  },
  {
   "cell_type": "code",
   "execution_count": 40,
   "metadata": {},
   "outputs": [
    {
     "data": {
      "text/plain": [
       "'2017-03-27'"
      ]
     },
     "execution_count": 40,
     "metadata": {},
     "output_type": "execute_result"
    }
   ],
   "source": [
    "cal_sse.advance_date('20170427', '-1m', return_string=True)"
   ]
  },
  {
   "cell_type": "markdown",
   "metadata": {},
   "source": [
    "#### 日程函数 schedule function"
   ]
  },
  {
   "cell_type": "code",
   "execution_count": 31,
   "metadata": {},
   "outputs": [
    {
     "data": {
      "text/plain": [
       "['2018-01-05', '2018-01-12', '2018-01-19', '2018-01-26', '2018-02-01']"
      ]
     },
     "execution_count": 31,
     "metadata": {},
     "output_type": "execute_result"
    }
   ],
   "source": [
    "cal_sse.schedule('2018-01-05', '2018-02-01', '1w', return_string=True, date_generation_rule=2)"
   ]
  },
  {
   "cell_type": "markdown",
   "metadata": {},
   "source": [
    "### Create null calendar"
   ]
  },
  {
   "cell_type": "code",
   "execution_count": 6,
   "metadata": {},
   "outputs": [],
   "source": [
    "null_cal = mcal.get_calendar('null')"
   ]
  },
  {
   "cell_type": "code",
   "execution_count": 7,
   "metadata": {},
   "outputs": [
    {
     "data": {
      "text/plain": [
       "False"
      ]
     },
     "execution_count": 7,
     "metadata": {},
     "output_type": "execute_result"
    }
   ],
   "source": [
    "null_cal.is_holiday('2018-10-01')"
   ]
  }
 ],
 "metadata": {
  "kernelspec": {
   "display_name": "Python 3",
   "language": "python",
   "name": "python3"
  },
  "language_info": {
   "codemirror_mode": {
    "name": "ipython",
    "version": 3
   },
   "file_extension": ".py",
   "mimetype": "text/x-python",
   "name": "python",
   "nbconvert_exporter": "python",
   "pygments_lexer": "ipython3",
   "version": "3.6.5"
  }
 },
 "nbformat": 4,
 "nbformat_minor": 1
}
